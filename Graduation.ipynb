{
  "nbformat": 4,
  "nbformat_minor": 0,
  "metadata": {
    "colab": {
      "provenance": [],
      "authorship_tag": "ABX9TyMH1+fkJLvHWOgv6t2ZQSDY",
      "include_colab_link": true
    },
    "kernelspec": {
      "name": "python3",
      "display_name": "Python 3"
    },
    "language_info": {
      "name": "python"
    }
  },
  "cells": [
    {
      "cell_type": "markdown",
      "metadata": {
        "id": "view-in-github",
        "colab_type": "text"
      },
      "source": [
        "<a href=\"https://colab.research.google.com/github/prosperjohn9/Graduation/blob/main/Graduation.ipynb\" target=\"_parent\"><img src=\"https://colab.research.google.com/assets/colab-badge.svg\" alt=\"Open In Colab\"/></a>"
      ]
    },
    {
      "cell_type": "markdown",
      "source": [
        "Conditions of Graduation from Undergraduate Programs:\n",
        "\n",
        "In order to be a graduate from undergraduate programs, the student has to meet all the conditions designated in Instruction Letter for University Undergraduate Programs. (Click here for the instruction letter.)\n",
        "According to the instruction letter, the student:\n",
        "\n",
        "a). Should have completed at least last two semesters in the University as a full time student,\n",
        "b). Should have earned the minimum credit from the program he / she is enrolled at. (Click Information System to get information about total credits that should be earned for each program and follow your graduation status and to reach \"Degree Evaluation\" forms.)\n",
        "c. To have a minimum CGPA* and PGPA* of 2.00\n"
      ],
      "metadata": {
        "id": "VLGxEb4uitKt"
      }
    },
    {
      "cell_type": "code",
      "source": [
        "# Input the GPA\n",
        "gpa = float(input(\"Please enter the GPA value: \"))\n",
        "\n",
        "# Determine if student is eligble to graduate or not\n",
        "if gpa >= 2.00:\n",
        "  print(\"Eligible to graduate\")\n",
        "  print(\"Congratulations\")\n",
        "else:\n",
        "  print(\"Not eligible to graduate\")"
      ],
      "metadata": {
        "colab": {
          "base_uri": "https://localhost:8080/"
        },
        "id": "zwU-BdeSkTyf",
        "outputId": "84128484-17de-4bcf-b7db-f1eff22de236"
      },
      "execution_count": null,
      "outputs": [
        {
          "output_type": "stream",
          "name": "stdout",
          "text": [
            "Please enter the GPA value: 3.43\n",
            "Eligible to graduate\n",
            "Congratulations\n"
          ]
        }
      ]
    }
  ]
}